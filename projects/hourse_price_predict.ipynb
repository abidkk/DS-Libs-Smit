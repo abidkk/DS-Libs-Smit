{
 "cells": [
  {
   "cell_type": "markdown",
   "id": "00d9d578",
   "metadata": {},
   "source": [
    "### House Price Prediction using Linear Regression with One Variable\n"
   ]
  },
  {
   "cell_type": "code",
   "execution_count": null,
   "id": "b48ffa95",
   "metadata": {},
   "outputs": [
    {
     "name": "stdout",
     "output_type": "stream",
     "text": [
      "House Size in Square Meter: 9000\n",
      "Predicted Price $1800\n"
     ]
    }
   ],
   "source": [
    "import numpy as np\n",
    "import matplotlib.pyplot as plt\n",
    "\n",
    "# Dataset\n",
    "x = np.array([1000,1200,1500,1800,2000])\n",
    "y = np.array([200,240,300,360,400])\n",
    "\n",
    "# add a column of ones to X for the bias term\n",
    "z = np.column_stack((np.ones(len(x)), x))\n",
    "\n",
    "\n",
    "# calculate the optimal Parameters using normal equation\n",
    "theta = np.linalg.inv(z.T.dot(z)).dot(z.T).dot(y)\n",
    "\n",
    "# print the optimal parameter\n",
    "# print(f\"theta_0: {theta[0]}\")\n",
    "# print(f\"theta_1: {theta[1]}\")\n",
    "\n",
    "\n",
    "# Predict the price of a house with Size 2200\n",
    "getArea = int(input(\"Please enter house area\"))\n",
    "\n",
    "predicted_price =int( theta[0] + theta[1] * getArea) \n",
    "\n",
    "print(f\"House Size in Square Meter: {getArea}\")\n",
    "print(f\"Predicted Price ${predicted_price}\")\n",
    "\n",
    "\n",
    "\n",
    "# plot the data and the regression line\n",
    "\n",
    "# plt.scatter(x,y)\n",
    "# plt.xlabel(\"House Size\")\n",
    "# plt.ylabel(\"House Price\")\n",
    "# plt.plot(x, theta[0] + theta[1]* x, color=\"red\")\n",
    "# plt.show()"
   ]
  }
 ],
 "metadata": {
  "kernelspec": {
   "display_name": "DSENV",
   "language": "python",
   "name": "python3"
  },
  "language_info": {
   "codemirror_mode": {
    "name": "ipython",
    "version": 3
   },
   "file_extension": ".py",
   "mimetype": "text/x-python",
   "name": "python",
   "nbconvert_exporter": "python",
   "pygments_lexer": "ipython3",
   "version": "3.12.7"
  }
 },
 "nbformat": 4,
 "nbformat_minor": 5
}
