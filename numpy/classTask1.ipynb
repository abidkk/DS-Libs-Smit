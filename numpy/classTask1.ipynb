{
 "cells": [
  {
   "cell_type": "markdown",
   "id": "9cc26f33",
   "metadata": {},
   "source": [
    "- Ali Abid\n"
   ]
  },
  {
   "cell_type": "code",
   "execution_count": 28,
   "id": "0865d659",
   "metadata": {},
   "outputs": [],
   "source": [
    "import numpy as np"
   ]
  },
  {
   "cell_type": "markdown",
   "id": "4c43ad43",
   "metadata": {},
   "source": [
    "### Q1"
   ]
  },
  {
   "cell_type": "code",
   "execution_count": 29,
   "id": "077e7f17",
   "metadata": {},
   "outputs": [
    {
     "name": "stdout",
     "output_type": "stream",
     "text": [
      "[[10 20]\n",
      " [11 22]\n",
      " [40 60]\n",
      " [40 20]] \n",
      "\n",
      "Shape: (4, 2)\n",
      "Dimension: 2\n",
      "e length in bytes: 8\n"
     ]
    }
   ],
   "source": [
    "x1 = np.array([[10,20], [11,22], [40,60], [40,20]])\n",
    "print(x1,\"\\n\")\n",
    "\n",
    "print(f\"Shape: {x1.shape}\")\n",
    "print(f\"Dimension: {x1.ndim}\")\n",
    "print(f\"e length in bytes: {x1.itemsize}\")"
   ]
  },
  {
   "cell_type": "markdown",
   "id": "c5126cb6",
   "metadata": {},
   "source": [
    "### Q2"
   ]
  },
  {
   "cell_type": "code",
   "execution_count": 35,
   "id": "3208f9cd",
   "metadata": {},
   "outputs": [
    {
     "name": "stdout",
     "output_type": "stream",
     "text": [
      "[[100 110]\n",
      " [120 130]\n",
      " [140 150]\n",
      " [160 170]\n",
      " [180 190]]\n"
     ]
    }
   ],
   "source": [
    "x2 = np.arange(100, 200, 10).reshape(5,2)\n",
    "print(x2)"
   ]
  },
  {
   "cell_type": "markdown",
   "id": "345ae8e5",
   "metadata": {},
   "source": [
    "# Q3"
   ]
  },
  {
   "cell_type": "code",
   "execution_count": null,
   "id": "6a1f6a62",
   "metadata": {},
   "outputs": [
    {
     "name": "stdout",
     "output_type": "stream",
     "text": [
      "[33 66 99]\n"
     ]
    }
   ],
   "source": [
    "sampleArray = np.array([[11 ,22, 33],\n",
    "                           [44, 55, 66],\n",
    "                          [77, 88, 99]])\n",
    "x3 = sampleArray[0:3, 2]\n",
    "\n",
    "print(x3)"
   ]
  },
  {
   "cell_type": "code",
   "execution_count": null,
   "id": "03745466",
   "metadata": {},
   "outputs": [],
   "source": []
  }
 ],
 "metadata": {
  "kernelspec": {
   "display_name": "DSENV",
   "language": "python",
   "name": "python3"
  },
  "language_info": {
   "codemirror_mode": {
    "name": "ipython",
    "version": 3
   },
   "file_extension": ".py",
   "mimetype": "text/x-python",
   "name": "python",
   "nbconvert_exporter": "python",
   "pygments_lexer": "ipython3",
   "version": "3.12.7"
  }
 },
 "nbformat": 4,
 "nbformat_minor": 5
}
