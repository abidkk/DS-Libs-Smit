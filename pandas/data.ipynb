{
 "cells": [
  {
   "cell_type": "code",
   "execution_count": 65,
   "id": "022c492e",
   "metadata": {},
   "outputs": [],
   "source": [
    "import pandas as pd"
   ]
  },
  {
   "cell_type": "code",
   "execution_count": 66,
   "id": "e5aa881e",
   "metadata": {},
   "outputs": [
    {
     "name": "stdout",
     "output_type": "stream",
     "text": [
      "             Name   Age  Gender        City                Course  Score\n",
      "0   Aabid Khokhar  24.0    Male     Karachi    Applied Psychology   95.0\n",
      "1        Areesha   23.0  Female     Karachi    Applied Psychology   99.0\n",
      "2      Afroz Khan  21.0    Male         NaN  Communication Skills   75.0\n",
      "3          Bilal   22.0    Male      Lahore  Computer Programming   55.0\n",
      "4        Shahweed  20.0     NaN      Lahore       Web Development   83.0\n",
      "5       Abu Nasar   NaN    Male      Quetta        Linear Algebra    NaN\n",
      "6            Sara  23.0  Female   Faislabad            Psychology   78.0\n",
      "7           Hafsa  24.0  Female     Larkana       Applied Physics   81.0\n",
      "8            Neha  19.0  Female  Mirpurkhas  Communication Skills   90.0\n",
      "9           Yumna  21.0     NaN     Karachi  Computer Programming   62.0\n",
      "10      Ahad Raza  18.0    Male   Islamabad                   NaN   74.0\n",
      "11  Aamir Khokhar  29.0    Male  Mirpurkhas        Linear Algebra   94.0\n",
      "12         Layba   17.0  Female     Karachi            Psychology   92.0\n"
     ]
    }
   ],
   "source": [
    "df = pd.read_csv(\"students.csv\")\n",
    "print(df)"
   ]
  },
  {
   "cell_type": "markdown",
   "id": "2033282e",
   "metadata": {},
   "source": [
    "### .cloumns: Get all columns name"
   ]
  },
  {
   "cell_type": "code",
   "execution_count": 67,
   "id": "3949d8ff",
   "metadata": {},
   "outputs": [
    {
     "name": "stdout",
     "output_type": "stream",
     "text": [
      "Index(['Name', 'Age', 'Gender', 'City', 'Course', 'Score'], dtype='object')\n",
      "['Name', 'Age', 'Gender', 'City', 'Course', 'Score']\n"
     ]
    }
   ],
   "source": [
    "print(df.columns)\n",
    "print(list(df.columns))"
   ]
  },
  {
   "cell_type": "markdown",
   "id": "ad4101b9",
   "metadata": {},
   "source": [
    "- Get Selected columns "
   ]
  },
  {
   "cell_type": "code",
   "execution_count": 68,
   "id": "65a29ce6",
   "metadata": {},
   "outputs": [
    {
     "name": "stdout",
     "output_type": "stream",
     "text": [
      "            Name  Gender                Course\n",
      "0  Aabid Khokhar    Male    Applied Psychology\n",
      "1       Areesha   Female    Applied Psychology\n",
      "2     Afroz Khan    Male  Communication Skills\n",
      "3         Bilal     Male  Computer Programming\n",
      "4       Shahweed     NaN       Web Development\n"
     ]
    }
   ],
   "source": [
    "# Get selected columns\n",
    "print(df[[\"Name\", \"Gender\", \"Course\"]].head())"
   ]
  },
  {
   "cell_type": "markdown",
   "id": "c952de2c",
   "metadata": {},
   "source": [
    "### head : Get first 5 rows"
   ]
  },
  {
   "cell_type": "code",
   "execution_count": 69,
   "id": "ba46ec58",
   "metadata": {},
   "outputs": [
    {
     "name": "stdout",
     "output_type": "stream",
     "text": [
      "            Name   Age  Gender     City                Course  Score\n",
      "0  Aabid Khokhar  24.0    Male  Karachi    Applied Psychology   95.0\n",
      "1       Areesha   23.0  Female  Karachi    Applied Psychology   99.0\n",
      "2     Afroz Khan  21.0    Male      NaN  Communication Skills   75.0\n",
      "3         Bilal   22.0    Male   Lahore  Computer Programming   55.0\n",
      "4       Shahweed  20.0     NaN   Lahore       Web Development   83.0\n"
     ]
    }
   ],
   "source": [
    "print(df.head())"
   ]
  },
  {
   "cell_type": "markdown",
   "id": "77e5085b",
   "metadata": {},
   "source": [
    "### Tail : Get last 5 rows"
   ]
  },
  {
   "cell_type": "code",
   "execution_count": 70,
   "id": "60e5d891",
   "metadata": {},
   "outputs": [
    {
     "name": "stdout",
     "output_type": "stream",
     "text": [
      "             Name   Age  Gender        City                Course  Score\n",
      "8            Neha  19.0  Female  Mirpurkhas  Communication Skills   90.0\n",
      "9           Yumna  21.0     NaN     Karachi  Computer Programming   62.0\n",
      "10      Ahad Raza  18.0    Male   Islamabad                   NaN   74.0\n",
      "11  Aamir Khokhar  29.0    Male  Mirpurkhas        Linear Algebra   94.0\n",
      "12         Layba   17.0  Female     Karachi            Psychology   92.0\n"
     ]
    }
   ],
   "source": [
    "print(df.tail())"
   ]
  },
  {
   "cell_type": "markdown",
   "id": "e61c66f0",
   "metadata": {},
   "source": [
    "### Data Type"
   ]
  },
  {
   "cell_type": "code",
   "execution_count": 71,
   "id": "4f13ef44",
   "metadata": {},
   "outputs": [
    {
     "name": "stdout",
     "output_type": "stream",
     "text": [
      "Name       object\n",
      "Age       float64\n",
      "Gender     object\n",
      "City       object\n",
      "Course     object\n",
      "Score     float64\n",
      "dtype: object\n"
     ]
    }
   ],
   "source": [
    "print(df.dtypes)"
   ]
  },
  {
   "cell_type": "markdown",
   "id": "170aaafc",
   "metadata": {},
   "source": [
    "### Describe : count, min, max, mean, 25%, 50%, 75%"
   ]
  },
  {
   "cell_type": "code",
   "execution_count": 75,
   "id": "654a9544",
   "metadata": {},
   "outputs": [
    {
     "name": "stdout",
     "output_type": "stream",
     "text": [
      "             Age      Score\n",
      "count  12.000000  12.000000\n",
      "mean   21.750000  81.500000\n",
      "std     3.222788  13.561309\n",
      "min    17.000000  55.000000\n",
      "25%    19.750000  74.750000\n",
      "50%    21.500000  82.000000\n",
      "75%    23.250000  92.500000\n",
      "max    29.000000  99.000000\n"
     ]
    }
   ],
   "source": [
    "print(df.describe())"
   ]
  },
  {
   "cell_type": "markdown",
   "id": "cc09ed25",
   "metadata": {},
   "source": [
    "### Filter"
   ]
  },
  {
   "cell_type": "code",
   "execution_count": 76,
   "id": "c8f79652",
   "metadata": {},
   "outputs": [
    {
     "name": "stdout",
     "output_type": "stream",
     "text": [
      "             Name   Age  Gender        City                Course  Score\n",
      "0   Aabid Khokhar  24.0    Male     Karachi    Applied Psychology   95.0\n",
      "1        Areesha   23.0  Female     Karachi    Applied Psychology   99.0\n",
      "4        Shahweed  20.0     NaN      Lahore       Web Development   83.0\n",
      "7           Hafsa  24.0  Female     Larkana       Applied Physics   81.0\n",
      "8            Neha  19.0  Female  Mirpurkhas  Communication Skills   90.0\n",
      "11  Aamir Khokhar  29.0    Male  Mirpurkhas        Linear Algebra   94.0\n",
      "12         Layba   17.0  Female     Karachi            Psychology   92.0\n"
     ]
    }
   ],
   "source": [
    "filtered = df[df[\"Score\"] > 80]\n",
    "print(filtered)"
   ]
  },
  {
   "cell_type": "markdown",
   "id": "0f36454b",
   "metadata": {},
   "source": [
    "### Null: Getting no of nulls from each column"
   ]
  },
  {
   "cell_type": "code",
   "execution_count": null,
   "id": "fa3e03ba",
   "metadata": {},
   "outputs": [
    {
     "name": "stdout",
     "output_type": "stream",
     "text": [
      "Name      0\n",
      "Age       1\n",
      "Gender    2\n",
      "City      1\n",
      "Course    1\n",
      "Score     1\n",
      "dtype: int64\n"
     ]
    }
   ],
   "source": [
    "print(df.isnull().sum()) "
   ]
  },
  {
   "cell_type": "code",
   "execution_count": 81,
   "id": "e12ac916",
   "metadata": {},
   "outputs": [
    {
     "name": "stdout",
     "output_type": "stream",
     "text": [
      "             Name   Age  Gender        City                Course Score\n",
      "0   Aabid Khokhar  24.0    Male     Karachi    Applied Psychology  95.0\n",
      "1        Areesha   23.0  Female     Karachi    Applied Psychology  99.0\n",
      "2      Afroz Khan  21.0    Male        None  Communication Skills  75.0\n",
      "3          Bilal   22.0    Male      Lahore  Computer Programming  55.0\n",
      "4        Shahweed  20.0    None      Lahore       Web Development  83.0\n",
      "5       Abu Nasar  None    Male      Quetta        Linear Algebra  None\n",
      "6            Sara  23.0  Female   Faislabad            Psychology  78.0\n",
      "7           Hafsa  24.0  Female     Larkana       Applied Physics  81.0\n",
      "8            Neha  19.0  Female  Mirpurkhas  Communication Skills  90.0\n",
      "9           Yumna  21.0    None     Karachi  Computer Programming  62.0\n",
      "10      Ahad Raza  18.0    Male   Islamabad                  None  74.0\n",
      "11  Aamir Khokhar  29.0    Male  Mirpurkhas        Linear Algebra  94.0\n",
      "12         Layba   17.0  Female     Karachi            Psychology  92.0\n"
     ]
    }
   ],
   "source": [
    "df1 = df.fillna(\"None\")\n",
    "print(df1)"
   ]
  },
  {
   "cell_type": "code",
   "execution_count": null,
   "id": "1056cc9f",
   "metadata": {},
   "outputs": [],
   "source": []
  }
 ],
 "metadata": {
  "kernelspec": {
   "display_name": "DSENV",
   "language": "python",
   "name": "python3"
  },
  "language_info": {
   "codemirror_mode": {
    "name": "ipython",
    "version": 3
   },
   "file_extension": ".py",
   "mimetype": "text/x-python",
   "name": "python",
   "nbconvert_exporter": "python",
   "pygments_lexer": "ipython3",
   "version": "3.12.7"
  }
 },
 "nbformat": 4,
 "nbformat_minor": 5
}
