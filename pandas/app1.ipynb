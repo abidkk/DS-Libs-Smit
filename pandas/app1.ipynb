{
 "cells": [
  {
   "cell_type": "code",
   "execution_count": 1,
   "id": "0d1a07a9",
   "metadata": {},
   "outputs": [],
   "source": [
    "import pandas as pd"
   ]
  },
  {
   "cell_type": "markdown",
   "id": "1c87320b",
   "metadata": {},
   "source": [
    "# Series"
   ]
  },
  {
   "cell_type": "code",
   "execution_count": 2,
   "id": "026ac4ed",
   "metadata": {},
   "outputs": [
    {
     "name": "stdout",
     "output_type": "stream",
     "text": [
      "0    10\n",
      "1    20\n",
      "2    30\n",
      "3    40\n",
      "4    50\n",
      "dtype: int64\n"
     ]
    }
   ],
   "source": [
    "s1 = pd.Series([10,20,30,40,50])\n",
    "print(s1)"
   ]
  },
  {
   "cell_type": "code",
   "execution_count": 3,
   "id": "ff818943",
   "metadata": {},
   "outputs": [
    {
     "name": "stdout",
     "output_type": "stream",
     "text": [
      "x1    10\n",
      "x2    20\n",
      "x3    30\n",
      "x4    40\n",
      "x5    50\n",
      "dtype: int64\n",
      "20\n",
      "10\n"
     ]
    }
   ],
   "source": [
    "s2 = pd.Series([10,20,30,40,50], index=['x1', 'x2', 'x3', 'x4', 'x5']) # labels : x1, x1\n",
    "\n",
    "print(s2)\n",
    "\n",
    "print(s2['x2']) # 20 : accessing by label\n",
    "print(s1[0]) # 10 : assecing by index"
   ]
  },
  {
   "cell_type": "markdown",
   "id": "6682793c",
   "metadata": {},
   "source": [
    "### List as series"
   ]
  },
  {
   "cell_type": "code",
   "execution_count": 4,
   "id": "2949f59e",
   "metadata": {},
   "outputs": [
    {
     "name": "stdout",
     "output_type": "stream",
     "text": [
      "0    80\n",
      "1    95\n",
      "2    77\n",
      "3    90\n",
      "4    88\n",
      "dtype: int64\n"
     ]
    }
   ],
   "source": [
    "nums = [80,95,77,90,88]\n",
    "\n",
    "num_series = pd.Series(nums)\n",
    "print(num_series)"
   ]
  },
  {
   "cell_type": "markdown",
   "id": "f3cb1612",
   "metadata": {},
   "source": [
    "### Dictionary as Series"
   ]
  },
  {
   "cell_type": "code",
   "execution_count": 5,
   "id": "e8652607",
   "metadata": {},
   "outputs": [
    {
     "name": "stdout",
     "output_type": "stream",
     "text": [
      "Apple     400\n",
      "Banana    200\n",
      "Orange    300\n",
      "Peach     270\n",
      "Mango     400\n",
      "dtype: int64\n"
     ]
    }
   ],
   "source": [
    "fruits = {\"Apple\":400, \"Banana\":200, \"Orange\":300, \"Peach\": 270, \"Mango\": 400}\n",
    "\n",
    "frSeries = pd.Series(fruits)\n",
    "print(frSeries)"
   ]
  },
  {
   "cell_type": "markdown",
   "id": "8dc0e96c",
   "metadata": {},
   "source": [
    "# DataFrame : Rows, Comuns,"
   ]
  },
  {
   "cell_type": "code",
   "execution_count": 6,
   "id": "90f48f09",
   "metadata": {},
   "outputs": [
    {
     "name": "stdout",
     "output_type": "stream",
     "text": [
      "    Name  Age       City\n",
      "0  AAbid   24    Karachi\n",
      "1  Noman   25  Hyderabad\n",
      "2  Aslam   28     Lahore\n",
      "\n",
      "\n",
      "\n"
     ]
    }
   ],
   "source": [
    "students = {\n",
    "    \"Name\": [\"AAbid\", \"Noman\", \"Aslam\"],\n",
    "    \"Age\":[24,25,28],\n",
    "    \"City\": [\"Karachi\", \"Hyderabad\", \"Lahore\"]\n",
    "           }\n",
    "\n",
    "df = pd.DataFrame(students)\n",
    "print(df)\n",
    "\n",
    "print(\"\\n\\n\")"
   ]
  },
  {
   "cell_type": "code",
   "execution_count": 7,
   "id": "732ad0f4",
   "metadata": {},
   "outputs": [
    {
     "name": "stdout",
     "output_type": "stream",
     "text": [
      "0    AAbid\n",
      "1    Noman\n",
      "2    Aslam\n",
      "Name: Name, dtype: object\n"
     ]
    }
   ],
   "source": [
    "print(df[\"Name\"])"
   ]
  },
  {
   "cell_type": "code",
   "execution_count": 8,
   "id": "0bbc2d47",
   "metadata": {},
   "outputs": [
    {
     "name": "stdout",
     "output_type": "stream",
     "text": [
      "    Name  Age\n",
      "0  AAbid   24\n",
      "1  Noman   25\n",
      "2  Aslam   28\n"
     ]
    }
   ],
   "source": [
    "# print(df[\"Name\", \"Age\"]) # error\n",
    "print(df[[\"Name\", \"Age\"]]) # error"
   ]
  },
  {
   "cell_type": "code",
   "execution_count": 9,
   "id": "efde1d80",
   "metadata": {},
   "outputs": [
    {
     "name": "stdout",
     "output_type": "stream",
     "text": [
      "    Name           Subject  Score\n",
      "0  AAbid            Python     90\n",
      "1  Noman        Javascript     89\n",
      "2  Aslam  Machine Learning     79\n"
     ]
    }
   ],
   "source": [
    "students_data = {\n",
    "        \"Name\": [\"AAbid\", \"Noman\", \"Aslam\"],\n",
    "    \"Subject\":[\"Python\", \"Javascript\", \"Machine Learning\"],\n",
    "    \"Score\": [90, 89, 79]\n",
    "}\n",
    "\n",
    "df = pd.DataFrame(students_data)\n",
    "print(df)\n"
   ]
  },
  {
   "cell_type": "markdown",
   "id": "4a88a78e",
   "metadata": {},
   "source": [
    "- Adding new coumn"
   ]
  },
  {
   "cell_type": "code",
   "execution_count": 10,
   "id": "3783d2e4",
   "metadata": {},
   "outputs": [
    {
     "name": "stdout",
     "output_type": "stream",
     "text": [
      "\n",
      " Adding New column (Age) \n",
      "\n",
      "    Name           Subject  Score  Age\n",
      "0  AAbid            Python     90   20\n",
      "1  Noman        Javascript     89   23\n",
      "2  Aslam  Machine Learning     79   25\n"
     ]
    }
   ],
   "source": [
    "\n",
    "print(\"\\n Adding New column (Age) \\n\")\n",
    "\n",
    "\n",
    "df[\"Age\"] = [20,23,25]\n",
    "print(df)"
   ]
  },
  {
   "cell_type": "markdown",
   "id": "ac479ff6",
   "metadata": {},
   "source": [
    "### Filter"
   ]
  },
  {
   "cell_type": "code",
   "execution_count": 12,
   "id": "0117cdf7",
   "metadata": {},
   "outputs": [
    {
     "name": "stdout",
     "output_type": "stream",
     "text": [
      "    Name     Subject  Score  Age\n",
      "0  AAbid      Python     90   20\n",
      "1  Noman  Javascript     89   23\n"
     ]
    }
   ],
   "source": [
    "df_filtered = df[df['Score'] > 80]\n",
    "print(df_filtered)"
   ]
  }
 ],
 "metadata": {
  "kernelspec": {
   "display_name": "DSENV",
   "language": "python",
   "name": "python3"
  },
  "language_info": {
   "codemirror_mode": {
    "name": "ipython",
    "version": 3
   },
   "file_extension": ".py",
   "mimetype": "text/x-python",
   "name": "python",
   "nbconvert_exporter": "python",
   "pygments_lexer": "ipython3",
   "version": "3.12.7"
  }
 },
 "nbformat": 4,
 "nbformat_minor": 5
}
