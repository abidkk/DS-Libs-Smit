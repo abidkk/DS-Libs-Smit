{
 "cells": [
  {
   "cell_type": "markdown",
   "id": "7a898993",
   "metadata": {},
   "source": [
    "### Ali Abid"
   ]
  },
  {
   "cell_type": "markdown",
   "id": "27390017",
   "metadata": {},
   "source": [
    "Task 1: Series"
   ]
  },
  {
   "cell_type": "code",
   "execution_count": 19,
   "id": "af39f27f",
   "metadata": {},
   "outputs": [],
   "source": [
    "import pandas as pd"
   ]
  },
  {
   "cell_type": "markdown",
   "id": "cecdbd21",
   "metadata": {},
   "source": [
    "# Series"
   ]
  },
  {
   "cell_type": "code",
   "execution_count": 20,
   "id": "a64f27e9",
   "metadata": {},
   "outputs": [
    {
     "data": {
      "text/plain": [
       "Pakistan       2100000\n",
       "Afghanistan     100000\n",
       "Iran           1200000\n",
       "Turkye         1500000\n",
       "Qatar           300000\n",
       "Palastine       100000\n",
       "dtype: int64"
      ]
     },
     "execution_count": 20,
     "metadata": {},
     "output_type": "execute_result"
    }
   ],
   "source": [
    "countries = {\n",
    "    \"Pakistan\": 2100000,\n",
    "    \"Afghanistan\":100000,\n",
    "    \"Iran\": 1200000,\n",
    "    \"Turkye\": 1500000,\n",
    "    \"Qatar\": 300000,\n",
    "    \"Palastine\": 100000,\n",
    "}\n",
    "\n",
    "s1 = pd.Series(countries)\n",
    "s1"
   ]
  },
  {
   "cell_type": "markdown",
   "id": "97c19188",
   "metadata": {},
   "source": [
    "# Data Frame"
   ]
  },
  {
   "cell_type": "code",
   "execution_count": 21,
   "id": "53467835",
   "metadata": {},
   "outputs": [
    {
     "data": {
      "text/html": [
       "<div>\n",
       "<style scoped>\n",
       "    .dataframe tbody tr th:only-of-type {\n",
       "        vertical-align: middle;\n",
       "    }\n",
       "\n",
       "    .dataframe tbody tr th {\n",
       "        vertical-align: top;\n",
       "    }\n",
       "\n",
       "    .dataframe thead th {\n",
       "        text-align: right;\n",
       "    }\n",
       "</style>\n",
       "<table border=\"1\" class=\"dataframe\">\n",
       "  <thead>\n",
       "    <tr style=\"text-align: right;\">\n",
       "      <th></th>\n",
       "      <th>Name</th>\n",
       "      <th>Department</th>\n",
       "      <th>Expereience years</th>\n",
       "      <th>Salary in PKR</th>\n",
       "    </tr>\n",
       "  </thead>\n",
       "  <tbody>\n",
       "    <tr>\n",
       "      <th>0</th>\n",
       "      <td>Zahid</td>\n",
       "      <td>Human Resource</td>\n",
       "      <td>4</td>\n",
       "      <td>300000</td>\n",
       "    </tr>\n",
       "    <tr>\n",
       "      <th>1</th>\n",
       "      <td>Adam</td>\n",
       "      <td>Marketing</td>\n",
       "      <td>2</td>\n",
       "      <td>250000</td>\n",
       "    </tr>\n",
       "    <tr>\n",
       "      <th>2</th>\n",
       "      <td>Sara</td>\n",
       "      <td>Development</td>\n",
       "      <td>5</td>\n",
       "      <td>350000</td>\n",
       "    </tr>\n",
       "    <tr>\n",
       "      <th>3</th>\n",
       "      <td>Neha</td>\n",
       "      <td>Management</td>\n",
       "      <td>1</td>\n",
       "      <td>140000</td>\n",
       "    </tr>\n",
       "    <tr>\n",
       "      <th>4</th>\n",
       "      <td>Rabia</td>\n",
       "      <td>Quality Assurence</td>\n",
       "      <td>3</td>\n",
       "      <td>210000</td>\n",
       "    </tr>\n",
       "  </tbody>\n",
       "</table>\n",
       "</div>"
      ],
      "text/plain": [
       "    Name         Department  Expereience years  Salary in PKR\n",
       "0  Zahid     Human Resource                  4         300000\n",
       "1   Adam          Marketing                  2         250000\n",
       "2   Sara        Development                  5         350000\n",
       "3   Neha         Management                  1         140000\n",
       "4  Rabia  Quality Assurence                  3         210000"
      ]
     },
     "execution_count": 21,
     "metadata": {},
     "output_type": "execute_result"
    }
   ],
   "source": [
    "employees = {\n",
    "    \"Name\": [\"Zahid\", \"Adam\", \"Sara\", \"Neha\", \"Rabia\"],\n",
    "    \"Department\": [\"Human Resource\", \"Marketing\", \"Development\", \"Management\", \"Quality Assurence\"],\n",
    "    \"Expereience years\": [4,2,5,1,3],\n",
    "    \"Salary in PKR\": [300000, 250000, 350000, 140000, 210000],\n",
    "}\n",
    "\n",
    "df = pd.DataFrame(employees)\n",
    "df"
   ]
  },
  {
   "cell_type": "markdown",
   "id": "1fecd936",
   "metadata": {},
   "source": [
    "### Calculation Bonus (15% of Salary)"
   ]
  },
  {
   "cell_type": "code",
   "execution_count": 25,
   "id": "6337528b",
   "metadata": {},
   "outputs": [
    {
     "data": {
      "text/plain": [
       "[45000.0, 37500.0, 52500.0, 21000.0, 31500.0]"
      ]
     },
     "execution_count": 25,
     "metadata": {},
     "output_type": "execute_result"
    }
   ],
   "source": [
    "bonus_salaries = list(df[\"Salary in PKR\"]*15/100)\n",
    "bonus_salaries"
   ]
  },
  {
   "cell_type": "markdown",
   "id": "9723e8a6",
   "metadata": {},
   "source": [
    "### Bonus Column"
   ]
  },
  {
   "cell_type": "code",
   "execution_count": 35,
   "id": "00bf134f",
   "metadata": {},
   "outputs": [
    {
     "data": {
      "text/html": [
       "<div>\n",
       "<style scoped>\n",
       "    .dataframe tbody tr th:only-of-type {\n",
       "        vertical-align: middle;\n",
       "    }\n",
       "\n",
       "    .dataframe tbody tr th {\n",
       "        vertical-align: top;\n",
       "    }\n",
       "\n",
       "    .dataframe thead th {\n",
       "        text-align: right;\n",
       "    }\n",
       "</style>\n",
       "<table border=\"1\" class=\"dataframe\">\n",
       "  <thead>\n",
       "    <tr style=\"text-align: right;\">\n",
       "      <th></th>\n",
       "      <th>Name</th>\n",
       "      <th>Department</th>\n",
       "      <th>Expereience years</th>\n",
       "      <th>Salary in PKR</th>\n",
       "      <th>Bonus</th>\n",
       "    </tr>\n",
       "  </thead>\n",
       "  <tbody>\n",
       "    <tr>\n",
       "      <th>0</th>\n",
       "      <td>Zahid</td>\n",
       "      <td>Human Resource</td>\n",
       "      <td>4</td>\n",
       "      <td>300000</td>\n",
       "      <td>45000.0</td>\n",
       "    </tr>\n",
       "    <tr>\n",
       "      <th>1</th>\n",
       "      <td>Adam</td>\n",
       "      <td>Marketing</td>\n",
       "      <td>2</td>\n",
       "      <td>250000</td>\n",
       "      <td>37500.0</td>\n",
       "    </tr>\n",
       "    <tr>\n",
       "      <th>2</th>\n",
       "      <td>Sara</td>\n",
       "      <td>Development</td>\n",
       "      <td>5</td>\n",
       "      <td>350000</td>\n",
       "      <td>52500.0</td>\n",
       "    </tr>\n",
       "    <tr>\n",
       "      <th>3</th>\n",
       "      <td>Neha</td>\n",
       "      <td>Management</td>\n",
       "      <td>1</td>\n",
       "      <td>140000</td>\n",
       "      <td>21000.0</td>\n",
       "    </tr>\n",
       "    <tr>\n",
       "      <th>4</th>\n",
       "      <td>Rabia</td>\n",
       "      <td>Quality Assurence</td>\n",
       "      <td>3</td>\n",
       "      <td>210000</td>\n",
       "      <td>31500.0</td>\n",
       "    </tr>\n",
       "  </tbody>\n",
       "</table>\n",
       "</div>"
      ],
      "text/plain": [
       "    Name         Department  Expereience years  Salary in PKR    Bonus\n",
       "0  Zahid     Human Resource                  4         300000  45000.0\n",
       "1   Adam          Marketing                  2         250000  37500.0\n",
       "2   Sara        Development                  5         350000  52500.0\n",
       "3   Neha         Management                  1         140000  21000.0\n",
       "4  Rabia  Quality Assurence                  3         210000  31500.0"
      ]
     },
     "execution_count": 35,
     "metadata": {},
     "output_type": "execute_result"
    }
   ],
   "source": [
    "df[\"Bonus\"] = bonus_salaries\n",
    "df"
   ]
  },
  {
   "cell_type": "markdown",
   "id": "724c00b7",
   "metadata": {},
   "source": [
    "### Filtered"
   ]
  },
  {
   "cell_type": "code",
   "execution_count": 37,
   "id": "988f625d",
   "metadata": {},
   "outputs": [
    {
     "data": {
      "text/html": [
       "<div>\n",
       "<style scoped>\n",
       "    .dataframe tbody tr th:only-of-type {\n",
       "        vertical-align: middle;\n",
       "    }\n",
       "\n",
       "    .dataframe tbody tr th {\n",
       "        vertical-align: top;\n",
       "    }\n",
       "\n",
       "    .dataframe thead th {\n",
       "        text-align: right;\n",
       "    }\n",
       "</style>\n",
       "<table border=\"1\" class=\"dataframe\">\n",
       "  <thead>\n",
       "    <tr style=\"text-align: right;\">\n",
       "      <th></th>\n",
       "      <th>Name</th>\n",
       "      <th>Department</th>\n",
       "      <th>Expereience years</th>\n",
       "      <th>Salary in PKR</th>\n",
       "      <th>Bonus</th>\n",
       "    </tr>\n",
       "  </thead>\n",
       "  <tbody>\n",
       "    <tr>\n",
       "      <th>0</th>\n",
       "      <td>Zahid</td>\n",
       "      <td>Human Resource</td>\n",
       "      <td>4</td>\n",
       "      <td>300000</td>\n",
       "      <td>45000.0</td>\n",
       "    </tr>\n",
       "    <tr>\n",
       "      <th>2</th>\n",
       "      <td>Sara</td>\n",
       "      <td>Development</td>\n",
       "      <td>5</td>\n",
       "      <td>350000</td>\n",
       "      <td>52500.0</td>\n",
       "    </tr>\n",
       "  </tbody>\n",
       "</table>\n",
       "</div>"
      ],
      "text/plain": [
       "    Name      Department  Expereience years  Salary in PKR    Bonus\n",
       "0  Zahid  Human Resource                  4         300000  45000.0\n",
       "2   Sara     Development                  5         350000  52500.0"
      ]
     },
     "execution_count": 37,
     "metadata": {},
     "output_type": "execute_result"
    }
   ],
   "source": [
    "df_filtered = df[df['Expereience years'] > 3]\n",
    "df_filtered\n"
   ]
  },
  {
   "cell_type": "markdown",
   "id": "82e16937",
   "metadata": {},
   "source": [
    "### Sorted"
   ]
  },
  {
   "cell_type": "code",
   "execution_count": 38,
   "id": "c8ab23ed",
   "metadata": {},
   "outputs": [
    {
     "data": {
      "text/html": [
       "<div>\n",
       "<style scoped>\n",
       "    .dataframe tbody tr th:only-of-type {\n",
       "        vertical-align: middle;\n",
       "    }\n",
       "\n",
       "    .dataframe tbody tr th {\n",
       "        vertical-align: top;\n",
       "    }\n",
       "\n",
       "    .dataframe thead th {\n",
       "        text-align: right;\n",
       "    }\n",
       "</style>\n",
       "<table border=\"1\" class=\"dataframe\">\n",
       "  <thead>\n",
       "    <tr style=\"text-align: right;\">\n",
       "      <th></th>\n",
       "      <th>Name</th>\n",
       "      <th>Department</th>\n",
       "      <th>Expereience years</th>\n",
       "      <th>Salary in PKR</th>\n",
       "      <th>Bonus</th>\n",
       "    </tr>\n",
       "  </thead>\n",
       "  <tbody>\n",
       "    <tr>\n",
       "      <th>2</th>\n",
       "      <td>Sara</td>\n",
       "      <td>Development</td>\n",
       "      <td>5</td>\n",
       "      <td>350000</td>\n",
       "      <td>52500.0</td>\n",
       "    </tr>\n",
       "    <tr>\n",
       "      <th>0</th>\n",
       "      <td>Zahid</td>\n",
       "      <td>Human Resource</td>\n",
       "      <td>4</td>\n",
       "      <td>300000</td>\n",
       "      <td>45000.0</td>\n",
       "    </tr>\n",
       "    <tr>\n",
       "      <th>1</th>\n",
       "      <td>Adam</td>\n",
       "      <td>Marketing</td>\n",
       "      <td>2</td>\n",
       "      <td>250000</td>\n",
       "      <td>37500.0</td>\n",
       "    </tr>\n",
       "    <tr>\n",
       "      <th>4</th>\n",
       "      <td>Rabia</td>\n",
       "      <td>Quality Assurence</td>\n",
       "      <td>3</td>\n",
       "      <td>210000</td>\n",
       "      <td>31500.0</td>\n",
       "    </tr>\n",
       "    <tr>\n",
       "      <th>3</th>\n",
       "      <td>Neha</td>\n",
       "      <td>Management</td>\n",
       "      <td>1</td>\n",
       "      <td>140000</td>\n",
       "      <td>21000.0</td>\n",
       "    </tr>\n",
       "  </tbody>\n",
       "</table>\n",
       "</div>"
      ],
      "text/plain": [
       "    Name         Department  Expereience years  Salary in PKR    Bonus\n",
       "2   Sara        Development                  5         350000  52500.0\n",
       "0  Zahid     Human Resource                  4         300000  45000.0\n",
       "1   Adam          Marketing                  2         250000  37500.0\n",
       "4  Rabia  Quality Assurence                  3         210000  31500.0\n",
       "3   Neha         Management                  1         140000  21000.0"
      ]
     },
     "execution_count": 38,
     "metadata": {},
     "output_type": "execute_result"
    }
   ],
   "source": [
    "df_sorted = df.sort_values(by=\"Salary in PKR\", ascending=False)\n",
    "df_sorted"
   ]
  },
  {
   "cell_type": "code",
   "execution_count": null,
   "id": "dc38a61f",
   "metadata": {},
   "outputs": [],
   "source": []
  }
 ],
 "metadata": {
  "kernelspec": {
   "display_name": "DSENV",
   "language": "python",
   "name": "python3"
  },
  "language_info": {
   "codemirror_mode": {
    "name": "ipython",
    "version": 3
   },
   "file_extension": ".py",
   "mimetype": "text/x-python",
   "name": "python",
   "nbconvert_exporter": "python",
   "pygments_lexer": "ipython3",
   "version": "3.12.7"
  }
 },
 "nbformat": 4,
 "nbformat_minor": 5
}
