{
 "cells": [
  {
   "cell_type": "markdown",
   "id": "d67f246b",
   "metadata": {},
   "source": [
    "https://raw.githubusercontent.com/leonism/sample-superstore/master/data/superstore.csv"
   ]
  },
  {
   "cell_type": "markdown",
   "id": "8108b063",
   "metadata": {},
   "source": [
    "class Task"
   ]
  },
  {
   "cell_type": "markdown",
   "id": "16c5c87a",
   "metadata": {},
   "source": [
    "- Find total sales and average quantity for each region.\n",
    "- For each category, compute the standard deviation and CV of sales.\n",
    "- Create a column high_discount = True if discount > average discount for its segment.\n",
    "- Filter only those sub-categories where total sales > 10000."
   ]
  },
  {
   "cell_type": "code",
   "execution_count": null,
   "id": "11686624",
   "metadata": {},
   "outputs": [],
   "source": [
    "import pandas as pd "
   ]
  },
  {
   "cell_type": "code",
   "execution_count": 1,
   "id": "23498fbc",
   "metadata": {},
   "outputs": [
    {
     "ename": "NameError",
     "evalue": "name 'pd' is not defined",
     "output_type": "error",
     "traceback": [
      "\u001b[31m---------------------------------------------------------------------------\u001b[39m",
      "\u001b[31mNameError\u001b[39m                                 Traceback (most recent call last)",
      "\u001b[36mCell\u001b[39m\u001b[36m \u001b[39m\u001b[32mIn[1]\u001b[39m\u001b[32m, line 1\u001b[39m\n\u001b[32m----> \u001b[39m\u001b[32m1\u001b[39m df = \u001b[43mpd\u001b[49m.read_csv(\u001b[33m\"\u001b[39m\u001b[33mdatasets/weather.csv\u001b[39m\u001b[33m\"\u001b[39m)\n\u001b[32m      2\u001b[39m df\n",
      "\u001b[31mNameError\u001b[39m: name 'pd' is not defined"
     ]
    }
   ],
   "source": [
    "df = pd.read_csv(\"datasets/weather.csv\")\n",
    "df"
   ]
  },
  {
   "cell_type": "code",
   "execution_count": null,
   "id": "23f91ffa",
   "metadata": {},
   "outputs": [],
   "source": []
  }
 ],
 "metadata": {
  "kernelspec": {
   "display_name": "DSENV",
   "language": "python",
   "name": "python3"
  },
  "language_info": {
   "codemirror_mode": {
    "name": "ipython",
    "version": 3
   },
   "file_extension": ".py",
   "mimetype": "text/x-python",
   "name": "python",
   "nbconvert_exporter": "python",
   "pygments_lexer": "ipython3",
   "version": "3.12.7"
  }
 },
 "nbformat": 4,
 "nbformat_minor": 5
}
