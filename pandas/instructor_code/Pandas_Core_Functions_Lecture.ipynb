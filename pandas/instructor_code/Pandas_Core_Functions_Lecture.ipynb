{
 "cells": [
  {
   "cell_type": "markdown",
   "id": "3a5f6aab",
   "metadata": {},
   "source": [
    "# 🐼 Pandas Lecture: Core Functions in Action\n",
    "**Dataset**: Titanic (`sns.load_dataset(\"titanic\")`)\n",
    "\n",
    "Learn essential Pandas functions used in real-world data work."
   ]
  },
  {
   "cell_type": "markdown",
   "id": "f4dd3d67",
   "metadata": {},
   "source": [
    "## 📥 1. Load the Dataset"
   ]
  },
  {
   "cell_type": "code",
   "execution_count": null,
   "id": "ab8d41ba",
   "metadata": {},
   "outputs": [],
   "source": [
    "import pandas as pd\n",
    "import seaborn as sns\n",
    "import matplotlib.pyplot as plt\n",
    "\n",
    "df = sns.load_dataset(\"titanic\")\n",
    "df.head()"
   ]
  },
  {
   "cell_type": "markdown",
   "id": "00a971de",
   "metadata": {},
   "source": [
    "## 🔎 2. DataFrame Exploration"
   ]
  },
  {
   "cell_type": "code",
   "execution_count": 1,
   "id": "14c3a10d",
   "metadata": {},
   "outputs": [
    {
     "ename": "NameError",
     "evalue": "name 'df' is not defined",
     "output_type": "error",
     "traceback": [
      "\u001b[31m---------------------------------------------------------------------------\u001b[39m",
      "\u001b[31mNameError\u001b[39m                                 Traceback (most recent call last)",
      "\u001b[36mCell\u001b[39m\u001b[36m \u001b[39m\u001b[32mIn[1]\u001b[39m\u001b[32m, line 1\u001b[39m\n\u001b[32m----> \u001b[39m\u001b[32m1\u001b[39m \u001b[43mdf\u001b[49m.head()\n\u001b[32m      2\u001b[39m df.tail()\n\u001b[32m      3\u001b[39m df.shape\n",
      "\u001b[31mNameError\u001b[39m: name 'df' is not defined"
     ]
    }
   ],
   "source": [
    "df.head()\n",
    "df.tail()\n",
    "df.shape\n",
    "df.columns\n",
    "df.dtypes\n",
    "df.info()\n",
    "df.describe()"
   ]
  },
  {
   "cell_type": "markdown",
   "id": "aab652d9",
   "metadata": {},
   "source": [
    "🎯 **Student Task**:\n",
    "- Show first and last 7 rows\n",
    "- List column names and data types"
   ]
  },
  {
   "cell_type": "markdown",
   "id": "92360945",
   "metadata": {},
   "source": [
    "## 🔍 3. Selecting and Filtering"
   ]
  },
  {
   "cell_type": "code",
   "execution_count": null,
   "id": "7953dbba",
   "metadata": {},
   "outputs": [],
   "source": [
    "df['age'].head()\n",
    "df[['sex', 'age', 'survived']].head()\n",
    "df.loc[0:5, ['sex', 'age']]\n",
    "df.iloc[0:5, 1:4]\n",
    "\n",
    "df[df['age'] > 60]\n",
    "df[(df['sex'] == 'female') & (df['fare'] > 100)]"
   ]
  },
  {
   "cell_type": "markdown",
   "id": "901dcf4e",
   "metadata": {},
   "source": [
    "🎯 **Student Task**: Select all males from first class older than 50"
   ]
  },
  {
   "cell_type": "markdown",
   "id": "6debf0df",
   "metadata": {},
   "source": [
    "## 🧹 4. Data Cleaning"
   ]
  },
  {
   "cell_type": "code",
   "execution_count": null,
   "id": "498b62ac",
   "metadata": {},
   "outputs": [],
   "source": [
    "df_clean = df.drop(['deck'], axis=1)\n",
    "df_clean.rename(columns={'sibsp': 'siblings_spouses_aboard'}, inplace=True)\n",
    "df_clean['age'] = df_clean['age'].astype(float)"
   ]
  },
  {
   "cell_type": "markdown",
   "id": "2299eb66",
   "metadata": {},
   "source": [
    "🎯 **Student Task**: Drop `embark_town`, rename `parch` to `parents_children`"
   ]
  },
  {
   "cell_type": "markdown",
   "id": "1e6f65e8",
   "metadata": {},
   "source": [
    "## ❓ 5. Missing Value Handling"
   ]
  },
  {
   "cell_type": "code",
   "execution_count": null,
   "id": "948bb2a6",
   "metadata": {},
   "outputs": [],
   "source": [
    "df_clean.isnull().sum()\n",
    "df_clean['age'].fillna(df_clean['age'].median(), inplace=True)\n",
    "df_clean.dropna(subset=['embarked'], inplace=True)"
   ]
  },
  {
   "cell_type": "markdown",
   "id": "e0387437",
   "metadata": {},
   "source": [
    "🎯 **Student Task**: Fill `embark_town` with its most frequent value"
   ]
  },
  {
   "cell_type": "markdown",
   "id": "efe2f597",
   "metadata": {},
   "source": [
    "## 🛠️ 6. Feature Engineering"
   ]
  },
  {
   "cell_type": "code",
   "execution_count": null,
   "id": "5e17141c",
   "metadata": {},
   "outputs": [],
   "source": [
    "df_clean['family_size'] = df_clean['siblings_spouses_aboard'] + df_clean['parch']\n",
    "df_clean['is_child'] = df_clean['age'].apply(lambda x: x < 12)\n",
    "df_clean['sex_code'] = df_clean['sex'].map({'male': 0, 'female': 1})"
   ]
  },
  {
   "cell_type": "markdown",
   "id": "b000919b",
   "metadata": {},
   "source": [
    "🎯 **Student Task**: Create column `is_elderly` for age > 65"
   ]
  },
  {
   "cell_type": "markdown",
   "id": "51cf8819",
   "metadata": {},
   "source": [
    "## 📊 7. Aggregation & Grouping"
   ]
  },
  {
   "cell_type": "code",
   "execution_count": null,
   "id": "4b17357a",
   "metadata": {},
   "outputs": [],
   "source": [
    "df_clean['sex'].value_counts()\n",
    "df_clean.groupby('sex')['survived'].mean()\n",
    "df_clean.groupby(['class', 'sex'])['age'].agg(['mean', 'count'])"
   ]
  },
  {
   "cell_type": "markdown",
   "id": "bdb2f3dc",
   "metadata": {},
   "source": [
    "🎯 **Student Task**: Find average fare paid by each class"
   ]
  },
  {
   "cell_type": "markdown",
   "id": "9d64a054",
   "metadata": {},
   "source": [
    "## 🔗 8. Combining Data"
   ]
  },
  {
   "cell_type": "code",
   "execution_count": null,
   "id": "8e4bdfa9",
   "metadata": {},
   "outputs": [],
   "source": [
    "df1 = df_clean[['sex', 'age']]\n",
    "df2 = df_clean[['fare', 'survived']]\n",
    "pd.concat([df1, df2], axis=1).head()"
   ]
  },
  {
   "cell_type": "markdown",
   "id": "99234834",
   "metadata": {},
   "source": [
    "🎯 **Student Task**: Create two subsets and merge with `concat()`"
   ]
  },
  {
   "cell_type": "markdown",
   "id": "85e87aeb",
   "metadata": {},
   "source": [
    "## 📊 9. Visualization"
   ]
  },
  {
   "cell_type": "code",
   "execution_count": null,
   "id": "e68bdf47",
   "metadata": {},
   "outputs": [],
   "source": [
    "df_clean['age'].plot.hist(bins=20, title='Age Distribution')\n",
    "plt.xlabel('Age')\n",
    "plt.show()\n",
    "\n",
    "df_clean['sex'].value_counts().plot.pie(autopct='%1.1f%%')\n",
    "plt.ylabel('')\n",
    "plt.show()"
   ]
  },
  {
   "cell_type": "markdown",
   "id": "35394b50",
   "metadata": {},
   "source": [
    "🎯 **Student Task**: Plot histogram of fare distribution"
   ]
  },
  {
   "cell_type": "markdown",
   "id": "11f843b4",
   "metadata": {},
   "source": [
    "## 📘 Final Assignment: Use `tips` Dataset\n",
    "\n",
    "🎯 **Instructions**:\n",
    "1. Load and explore the dataset.\n",
    "2. Use 10 functions from this lecture.\n",
    "3. Create new columns:\n",
    "   - `bill_per_person` = `total_bill` / `size`\n",
    "   - `is_weekend` = True if `day` is Sat/Sun\n",
    "4. Group by `day` and analyze tip and bill\n",
    "5. Plot pie chart of smokers, histogram of tips"
   ]
  }
 ],
 "metadata": {
  "kernelspec": {
   "display_name": "DSENV",
   "language": "python",
   "name": "python3"
  },
  "language_info": {
   "codemirror_mode": {
    "name": "ipython",
    "version": 3
   },
   "file_extension": ".py",
   "mimetype": "text/x-python",
   "name": "python",
   "nbconvert_exporter": "python",
   "pygments_lexer": "ipython3",
   "version": "3.12.7"
  }
 },
 "nbformat": 4,
 "nbformat_minor": 5
}
